{
 "cells": [
  {
   "cell_type": "markdown",
   "metadata": {},
   "source": [
    "# 5 Linear Regression: Housing Price Forecast\n"
   ]
  },
  {
   "cell_type": "markdown",
   "metadata": {},
   "source": [
    "5.1 Introduction to the Experiment\n",
    "\n",
    "5.1.1 About the Experiment\n",
    "\n",
    "This experiment is an instance of TensorFlow linear regression, that is, housing price forecast.\n",
    "\n",
    "5.1.2 Objectives of the Experiment\n",
    "\n",
    "Understand the linear regression.\n",
    "Understand how to use TensorFlow to make a prediction.\n",
    "\n",
    "5.1.3 Experiment Content\n",
    "\n",
    "This experiment takes an instance to introduce how to use linear regression to predict the housing price and how to make such a prediction in TensorFlow. Commonly, the dataset of Boston housing price is used to predict the housing price. This experiment uses the dataset of Beijing housing price, which is more applicable to China.\n"
   ]
  },
  {
   "cell_type": "code",
   "execution_count": 1,
   "metadata": {},
   "outputs": [
    {
     "name": "stdout",
     "output_type": "stream",
     "text": [
      "WARNING:tensorflow:From C:\\Users\\ALH AHMED ABDUL\\AppData\\Roaming\\Python\\Python38\\site-packages\\tensorflow\\python\\compat\\v2_compat.py:96: disable_resource_variables (from tensorflow.python.ops.variable_scope) is deprecated and will be removed in a future version.\n",
      "Instructions for updating:\n",
      "non-resource variables are not supported in the long term\n"
     ]
    }
   ],
   "source": [
    "#5.2 Experimental Process\n",
    "#Load the database required for this project.\n",
    "from __future__ import print_function, division\n",
    "import tensorflow.compat.v1 as tf\n",
    "tf.disable_v2_behavior()\n",
    "import pandas as pd\n",
    "import numpy as np\n",
    "import matplotlib.pyplot as plt\n"
   ]
  },
  {
   "cell_type": "code",
   "execution_count": 2,
   "metadata": {},
   "outputs": [
    {
     "name": "stdout",
     "output_type": "stream",
     "text": [
      "9959\n",
      "   Area  Value  Room  Living  School  Year  Floor\n",
      "0   128    370     3       1       1  2004     21\n",
      "1    68    330     1       2       1  2000      6\n",
      "2   125    355     3       2       0  2003      5\n",
      "3   129    278     2       2       0  2005     16\n",
      "4   118    340     3       2       0  2003      6\n"
     ]
    }
   ],
   "source": [
    "\n",
    "# import data\n",
    "train = pd.read_csv(r\"bj_housing.csv\")\n",
    "train = train[train['Area'] < 300]\n",
    "print(len(train))\n",
    "print(train.head())\n"
   ]
  },
  {
   "cell_type": "code",
   "execution_count": 3,
   "metadata": {},
   "outputs": [],
   "source": [
    "train_X = train['Area'].values.reshape(-1,1)\n",
    "train_Y = train['Value'].values.reshape(-1,1)\n",
    "n_samples = train_X.shape[0]\n",
    "learning_rate = 2\n",
    "# set learning rate\n",
    "training_epochs = 100\n",
    "# set display_step\n",
    "display_step = 10\n"
   ]
  },
  {
   "cell_type": "code",
   "execution_count": 4,
   "metadata": {},
   "outputs": [],
   "source": [
    "#Define the X and Y placeholders.\n",
    "X = tf.placeholder(tf.float32)\n",
    "Y = tf.placeholder(tf.float32)\n",
    "\n",
    "W = tf.Variable(np.random.randn(),name = \"weight\", dtype = tf.float32)\n",
    "b = tf.Variable(np.random.randn(), name = \"bias\", dtype = tf.float32)\n"
   ]
  },
  {
   "cell_type": "code",
   "execution_count": 5,
   "metadata": {},
   "outputs": [],
   "source": [
    "#Create a structure of forward propagation.\n",
    "#pred = W * X + b\n",
    "pred = tf.add(tf.multiply(W,X),b)\n",
    "#Loss function\n",
    "cost = tf.reduce_sum(tf.pow(pred - Y, 2))/(2*n_samples)\n",
    "#Use the gradient descent optimizer.\n",
    "optimizer = tf.train.AdamOptimizer(learning_rate).minimize(cost)\n"
   ]
  },
  {
   "cell_type": "code",
   "execution_count": 6,
   "metadata": {},
   "outputs": [],
   "source": [
    "#Enable Init.\n",
    "init = tf.global_variables_initializer()\n"
   ]
  },
  {
   "cell_type": "code",
   "execution_count": 7,
   "metadata": {},
   "outputs": [
    {
     "name": "stdout",
     "output_type": "stream",
     "text": [
      "Epoch: 0001 cost= 18595.451 W= 2.4112637 b= 1.1361899\n",
      "Epoch: 0011 cost= 19744.367 W= 2.3239503 b= 0.9744512\n",
      "Epoch: 0021 cost= 11269.982 W= 4.0274405 b= 2.5662386\n",
      "Epoch: 0031 cost= 11296.874 W= 4.0362015 b= 2.4413998\n",
      "Epoch: 0041 cost= 10856.712 W= 3.4694717 b= 1.7238418\n",
      "Epoch: 0051 cost= 10758.692 W= 3.5255063 b= 1.6157529\n",
      "Epoch: 0061 cost= 10643.396 W= 3.6905015 b= 1.6065626\n",
      "Epoch: 0071 cost= 10657.767 W= 3.7358403 b= 1.4706141\n",
      "Epoch: 0081 cost= 10650.176 W= 3.7216215 b= 1.270606\n",
      "Epoch: 0091 cost= 10644.293 W= 3.7034774 b= 1.0644417\n",
      "Optimization Finished!\n",
      "--------------------------------------------------\n",
      "Training cost =  10642.372 W= 3.6860905 b= 0.8775688 \n",
      "\n"
     ]
    }
   ],
   "source": [
    "#Enable circulation to start training.\n",
    "with tf.Session() as sess:\n",
    "    sess.run(init)\n",
    "    for epoch in range(training_epochs):\n",
    "        sess.run(optimizer, feed_dict = {X: train_X, Y:train_Y})\n",
    "        if (epoch)%display_step ==  0:\n",
    "            c = sess.run(cost, feed_dict= {X: train_X, Y:train_Y})\n",
    "            print(\"Epoch:\", '%04d' % (epoch + 1), \"cost=\", \"{:.3f}\".format(c), \"W=\", sess.run(W), \"b=\", sess.run(b))\n",
    "    print(\"Optimization Finished!\")\n",
    "    print(\"--------------------------------------------------\")\n",
    "    training_cost = sess.run(cost, feed_dict = {X: train_X, Y:train_Y})\n",
    "    w_final = sess.run(W)\n",
    "    b_final = sess.run(b)\n",
    "    print(\"Training cost = \", training_cost , \"W=\", w_final, \"b=\",b_final,'\\n')  \n"
   ]
  },
  {
   "cell_type": "code",
   "execution_count": 8,
   "metadata": {},
   "outputs": [
    {
     "data": {
      "image/png": "[encoded data removed]",
      "text/plain": [
       "<Figure size 432x288 with 1 Axes>"
      ]
     },
     "metadata": {
      "needs_background": "light"
     },
     "output_type": "display_data"
    }
   ],
   "source": [
    "import matplotlib.pyplot as plt\n",
    "# show the plot \n",
    "plt.plot(train_X, train_Y, 'ro', label=\"Original data\") \n",
    "plt.plot(train_X, w_final * train_X + b_final, label=\"Fitted line\") \n",
    "plt.legend()\n",
    "plt.show()\n"
   ]
  },
  {
   "cell_type": "markdown",
   "metadata": {},
   "source": [
    "5.3 Instance Description\n",
    "\n",
    "This experiment uses the dataset of Beijing housing price to predict the housing price of Beijing and realize the application of TensorFlow linear regression.\n",
    "\n"
   ]
  },
  {
   "cell_type": "code",
   "execution_count": null,
   "metadata": {},
   "outputs": [],
   "source": []
  }
 ],
 "metadata": {
  "kernelspec": {
   "display_name": "Python 3 (ipykernel)",
   "language": "python",
   "name": "python3"
  },
  "language_info": {
   "codemirror_mode": {
    "name": "ipython",
    "version": 3
   },
   "file_extension": ".py",
   "mimetype": "text/x-python",
   "name": "python",
   "nbconvert_exporter": "python",
   "pygments_lexer": "ipython3",
   "version": "3.8.12"
  }
 },
 "nbformat": 4,
 "nbformat_minor": 2
}
